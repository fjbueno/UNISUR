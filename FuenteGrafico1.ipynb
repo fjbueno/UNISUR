{
 "cells": [
  {
   "cell_type": "markdown",
   "metadata": {},
   "source": [
    "# Mapa de datos Georeferenciados de las consultas de pacientes con enfermedades cronicodegerativas"
   ]
  },
  {
   "cell_type": "code",
   "execution_count": 1,
   "metadata": {},
   "outputs": [],
   "source": [
    "import pandas as pd\n",
    "import folium"
   ]
  },
  {
   "cell_type": "code",
   "execution_count": 2,
   "metadata": {},
   "outputs": [
    {
     "data": {
      "text/html": [
       "<div>\n",
       "<style scoped>\n",
       "    .dataframe tbody tr th:only-of-type {\n",
       "        vertical-align: middle;\n",
       "    }\n",
       "\n",
       "    .dataframe tbody tr th {\n",
       "        vertical-align: top;\n",
       "    }\n",
       "\n",
       "    .dataframe thead th {\n",
       "        text-align: right;\n",
       "    }\n",
       "</style>\n",
       "<table border=\"1\" class=\"dataframe\">\n",
       "  <thead>\n",
       "    <tr style=\"text-align: right;\">\n",
       "      <th></th>\n",
       "      <th>latitud</th>\n",
       "      <th>longitud</th>\n",
       "      <th>IDCONSULTA</th>\n",
       "      <th>FECHA</th>\n",
       "      <th>HORA</th>\n",
       "      <th>ESPECIALIDAD</th>\n",
       "      <th>EXPEDIENTE</th>\n",
       "      <th>SEXO</th>\n",
       "      <th>EDAD</th>\n",
       "      <th>MUNICIPIO</th>\n",
       "      <th>ESTADO</th>\n",
       "      <th>DERECHOHABIENCIA</th>\n",
       "      <th>ID_DX</th>\n",
       "    </tr>\n",
       "  </thead>\n",
       "  <tbody>\n",
       "    <tr>\n",
       "      <th>0</th>\n",
       "      <td>16.2339</td>\n",
       "      <td>-93.898616</td>\n",
       "      <td>28943300245</td>\n",
       "      <td>02/01/20</td>\n",
       "      <td>30:28.0</td>\n",
       "      <td>NEUROCIRUGIA</td>\n",
       "      <td>34820</td>\n",
       "      <td>F</td>\n",
       "      <td>46</td>\n",
       "      <td>ARRIAGA</td>\n",
       "      <td>CHIAPAS</td>\n",
       "      <td>SEGURO POPULAR</td>\n",
       "      <td>D434</td>\n",
       "    </tr>\n",
       "    <tr>\n",
       "      <th>1</th>\n",
       "      <td>15.0670</td>\n",
       "      <td>-92.083150</td>\n",
       "      <td>28943400245</td>\n",
       "      <td>02/01/20</td>\n",
       "      <td>10:58.0</td>\n",
       "      <td>NEUROCIRUGIA</td>\n",
       "      <td>35731</td>\n",
       "      <td>M</td>\n",
       "      <td>63</td>\n",
       "      <td>UNION JUAREZ</td>\n",
       "      <td>CHIAPAS</td>\n",
       "      <td>SEGURO POPULAR</td>\n",
       "      <td>I601</td>\n",
       "    </tr>\n",
       "    <tr>\n",
       "      <th>2</th>\n",
       "      <td>14.9000</td>\n",
       "      <td>-92.266700</td>\n",
       "      <td>28943500245</td>\n",
       "      <td>02/01/20</td>\n",
       "      <td>27:00.0</td>\n",
       "      <td>NEUROCIRUGIA</td>\n",
       "      <td>36579</td>\n",
       "      <td>F</td>\n",
       "      <td>27</td>\n",
       "      <td>TAPACHULA</td>\n",
       "      <td>CHIAPAS</td>\n",
       "      <td>SEGURO POPULAR</td>\n",
       "      <td>M544</td>\n",
       "    </tr>\n",
       "    <tr>\n",
       "      <th>3</th>\n",
       "      <td>14.9000</td>\n",
       "      <td>-92.266700</td>\n",
       "      <td>28943900245</td>\n",
       "      <td>02/01/20</td>\n",
       "      <td>11:08.0</td>\n",
       "      <td>NEUMOLOGIA</td>\n",
       "      <td>37026</td>\n",
       "      <td>F</td>\n",
       "      <td>30</td>\n",
       "      <td>TAPACHULA</td>\n",
       "      <td>CHIAPAS</td>\n",
       "      <td>SEGURO POPULAR</td>\n",
       "      <td>J998</td>\n",
       "    </tr>\n",
       "    <tr>\n",
       "      <th>4</th>\n",
       "      <td>15.6583</td>\n",
       "      <td>-92.142715</td>\n",
       "      <td>28944100245</td>\n",
       "      <td>02/01/20</td>\n",
       "      <td>52:37.0</td>\n",
       "      <td>NEUMOLOGIA</td>\n",
       "      <td>36009</td>\n",
       "      <td>F</td>\n",
       "      <td>45</td>\n",
       "      <td>FRONTERA COMALAPA</td>\n",
       "      <td>CHIAPAS</td>\n",
       "      <td>SEGURO POPULAR</td>\n",
       "      <td>J998</td>\n",
       "    </tr>\n",
       "  </tbody>\n",
       "</table>\n",
       "</div>"
      ],
      "text/plain": [
       "   latitud   longitud   IDCONSULTA     FECHA     HORA  ESPECIALIDAD  \\\n",
       "0  16.2339 -93.898616  28943300245  02/01/20  30:28.0  NEUROCIRUGIA   \n",
       "1  15.0670 -92.083150  28943400245  02/01/20  10:58.0  NEUROCIRUGIA   \n",
       "2  14.9000 -92.266700  28943500245  02/01/20  27:00.0  NEUROCIRUGIA   \n",
       "3  14.9000 -92.266700  28943900245  02/01/20  11:08.0    NEUMOLOGIA   \n",
       "4  15.6583 -92.142715  28944100245  02/01/20  52:37.0    NEUMOLOGIA   \n",
       "\n",
       "   EXPEDIENTE SEXO  EDAD          MUNICIPIO   ESTADO DERECHOHABIENCIA ID_DX  \n",
       "0       34820    F    46            ARRIAGA  CHIAPAS   SEGURO POPULAR  D434  \n",
       "1       35731    M    63       UNION JUAREZ  CHIAPAS   SEGURO POPULAR  I601  \n",
       "2       36579    F    27          TAPACHULA  CHIAPAS   SEGURO POPULAR  M544  \n",
       "3       37026    F    30          TAPACHULA  CHIAPAS   SEGURO POPULAR  J998  \n",
       "4       36009    F    45  FRONTERA COMALAPA  CHIAPAS   SEGURO POPULAR  J998  "
      ]
     },
     "execution_count": 2,
     "metadata": {},
     "output_type": "execute_result"
    }
   ],
   "source": [
    "datos = pd.read_csv('consultasHraecs_lat_longNOnull.csv')\n",
    "datos.shape\n",
    "datos.head()\n",
    "#datos.columns=datos.columns.str.strip()"
   ]
  },
  {
   "cell_type": "code",
   "execution_count": 3,
   "metadata": {},
   "outputs": [],
   "source": [
    "mapaDatos=folium.Map(location=[16.75,-93.1167],zoom_start=10)"
   ]
  },
  {
   "cell_type": "code",
   "execution_count": 4,
   "metadata": {},
   "outputs": [],
   "source": [
    "datos=datos.dropna(subset=['longitud'])\n",
    "\n",
    "datos=datos.dropna(subset=['latitud'])"
   ]
  },
  {
   "cell_type": "code",
   "execution_count": 11,
   "metadata": {},
   "outputs": [],
   "source": [
    "\n",
    "for(index,row) in datos.iterrows():\n",
    "   # output = str(row.loc['EDAD'])\n",
    "    folium.Marker(location=[row.loc['latitud'],row.loc['longitud']],\n",
    "                  popup=str(row.loc['EXPEDIENTE'])+' '+row.loc['ESPECIALIDAD']+' '+row.loc['SEXO']+' '+str(row.loc['EDAD'])+' '+row.loc['MUNICIPIO'],\n",
    "                  icon=folium.Icon(color='red'),\n",
    "                  tooltip='click').add_to(mapaDatos)"
   ]
  },
  {
   "cell_type": "code",
   "execution_count": 12,
   "metadata": {},
   "outputs": [],
   "source": [
    "mapaDatos.save(\"mapa1.html\")"
   ]
  },
  {
   "cell_type": "code",
   "execution_count": null,
   "metadata": {},
   "outputs": [],
   "source": []
  }
 ],
 "metadata": {
  "kernelspec": {
   "display_name": "Python 3",
   "language": "python",
   "name": "python3"
  },
  "language_info": {
   "codemirror_mode": {
    "name": "ipython",
    "version": 3
   },
   "file_extension": ".py",
   "mimetype": "text/x-python",
   "name": "python",
   "nbconvert_exporter": "python",
   "pygments_lexer": "ipython3",
   "version": "3.9.0"
  }
 },
 "nbformat": 4,
 "nbformat_minor": 4
}
